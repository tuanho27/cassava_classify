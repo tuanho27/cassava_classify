{
 "cells": [
  {
   "cell_type": "code",
   "execution_count": 1,
   "metadata": {
    "_cell_guid": "b1076dfc-b9ad-4769-8c92-a6c4dae69d19",
    "_uuid": "8f2839f25d086af736a60e9eeb907d3b93b6e0e5",
    "execution": {
     "iopub.execute_input": "2021-01-07T04:36:03.725914Z",
     "iopub.status.busy": "2021-01-07T04:36:03.725173Z",
     "iopub.status.idle": "2021-01-07T04:36:22.388888Z",
     "shell.execute_reply": "2021-01-07T04:36:22.387766Z"
    },
    "papermill": {
     "duration": 18.687392,
     "end_time": "2021-01-07T04:36:22.389024",
     "exception": false,
     "start_time": "2021-01-07T04:36:03.701632",
     "status": "completed"
    },
    "tags": []
   },
   "outputs": [
    {
     "name": "stdout",
     "output_type": "stream",
     "text": [
      "/kaggle/input\n",
      "/kaggle/input/cassavav03\n",
      "/kaggle/input/effb45thfold1\n",
      "/kaggle/input/cassavav02\n",
      "/kaggle/input/cassavav05\n",
      "/kaggle/input/cassavav08\n",
      "/kaggle/input/cassavav06\n",
      "/kaggle/input/cassavav12\n",
      "/kaggle/input/cassavav16\n",
      "legacy_seresnext26_32x4d_fold0_best_epoch_29_final_4th.pth\n",
      "legacy_seresnext26_32x4d_fold2_best_epoch_26_final_5th.pth\n",
      "legacy_seresnext26_32x4d_fold1_best_epoch_21_final_5th.pth\n",
      "legacy_seresnext26_32x4d_fold3_best_epoch_4_final_5th.pth\n",
      "legacy_seresnext26_32x4d_fold4_best_epoch_17_final_5th.pth\n",
      "/kaggle/input/cassavav11\n",
      "/kaggle/input/cassavav13\n",
      "/kaggle/input/cassavav14\n",
      "/kaggle/input/cassavav07\n",
      "/kaggle/input/cassavav01\n",
      "/kaggle/input/cassavav01/utils\n",
      "/kaggle/input/cassavav01/weights\n",
      "/kaggle/input/cassavav01/pytorch-image-models\n",
      "/kaggle/input/cassavav01/pytorch-image-models/tests\n",
      "/kaggle/input/cassavav01/pytorch-image-models/results\n",
      "/kaggle/input/cassavav01/pytorch-image-models/.github\n",
      "/kaggle/input/cassavav01/pytorch-image-models/.github/ISSUE_TEMPLATE\n",
      "/kaggle/input/cassavav01/pytorch-image-models/.github/workflows\n",
      "/kaggle/input/cassavav01/pytorch-image-models/docs\n",
      "/kaggle/input/cassavav01/pytorch-image-models/docs/javascripts\n",
      "/kaggle/input/cassavav01/pytorch-image-models/notebooks\n",
      "/kaggle/input/cassavav01/pytorch-image-models/timm\n",
      "/kaggle/input/cassavav01/pytorch-image-models/timm/utils\n",
      "/kaggle/input/cassavav01/pytorch-image-models/timm/scheduler\n",
      "/kaggle/input/cassavav01/pytorch-image-models/timm/optim\n",
      "/kaggle/input/cassavav01/pytorch-image-models/timm/loss\n",
      "/kaggle/input/cassavav01/pytorch-image-models/timm/models\n",
      "/kaggle/input/cassavav01/pytorch-image-models/timm/models/pruned\n",
      "/kaggle/input/cassavav01/pytorch-image-models/timm/models/layers\n",
      "/kaggle/input/cassavav01/pytorch-image-models/timm/data\n",
      "/kaggle/input/cassavav01/pytorch-image-models/.git\n",
      "/kaggle/input/cassavav01/pytorch-image-models/.git/info\n",
      "/kaggle/input/cassavav01/pytorch-image-models/.git/refs\n",
      "/kaggle/input/cassavav01/pytorch-image-models/.git/refs/heads\n",
      "/kaggle/input/cassavav01/pytorch-image-models/.git/refs/remotes\n",
      "/kaggle/input/cassavav01/pytorch-image-models/.git/refs/remotes/origin\n",
      "/kaggle/input/cassavav01/pytorch-image-models/.git/hooks\n",
      "/kaggle/input/cassavav01/pytorch-image-models/.git/logs\n",
      "/kaggle/input/cassavav01/pytorch-image-models/.git/logs/refs\n",
      "/kaggle/input/cassavav01/pytorch-image-models/.git/logs/refs/heads\n",
      "/kaggle/input/cassavav01/pytorch-image-models/.git/logs/refs/remotes\n",
      "/kaggle/input/cassavav01/pytorch-image-models/.git/logs/refs/remotes/origin\n",
      "/kaggle/input/cassavav01/pytorch-image-models/.git/objects\n",
      "/kaggle/input/cassavav01/pytorch-image-models/.git/objects/pack\n",
      "/kaggle/input/cassavav01/pytorch-image-models/convert\n",
      "/kaggle/input/cassavav10\n",
      "/kaggle/input/cassava-leaf-disease-classification\n",
      "/kaggle/input/cassava-leaf-disease-classification/train_tfrecords\n",
      "/kaggle/input/cassava-leaf-disease-classification/test_tfrecords\n",
      "/kaggle/input/cassava-leaf-disease-classification/train_images\n",
      "/kaggle/input/cassava-leaf-disease-classification/test_images\n",
      "/kaggle/input/cassavav04\n",
      "/kaggle/input/effb43rdfold2\n",
      "/kaggle/input/cassavav15\n"
     ]
    }
   ],
   "source": [
    "# This Python 3 environment comes with many helpful analytics libraries installed\n",
    "# It is defined by the kaggle/python Docker image: https://github.com/kaggle/docker-python\n",
    "# For example, here's several helpful packages to load\n",
    "\n",
    "import numpy as np # linear algebra\n",
    "import pandas as pd # data processing, CSV file I/O (e.g. pd.read_csv)\n",
    "\n",
    "# Input data files are available in the read-only \"../input/\" directory\n",
    "# For example, running this (by clicking run or pressing Shift+Enter) will list all files under the input directory\n",
    "\n",
    "import os\n",
    "for dirname, _, filenames in os.walk('/kaggle/input'):\n",
    "    print(dirname)\n",
    "    if \"cassavav16\" in dirname:\n",
    "        for f in filenames:\n",
    "            print(f)\n",
    "\n",
    "# You can write up to 20GB to the current directory (/kaggle/working/) that gets preserved as output when you create a version using \"Save & Run All\" \n",
    "# You can also write temporary files to /kaggle/temp/, but they won't be saved outside of the current session"
   ]
  },
  {
   "cell_type": "code",
   "execution_count": 2,
   "metadata": {
    "execution": {
     "iopub.execute_input": "2021-01-07T04:36:22.425783Z",
     "iopub.status.busy": "2021-01-07T04:36:22.425042Z",
     "iopub.status.idle": "2021-01-07T04:36:58.162235Z",
     "shell.execute_reply": "2021-01-07T04:36:58.161220Z"
    },
    "papermill": {
     "duration": 35.75726,
     "end_time": "2021-01-07T04:36:58.162372",
     "exception": false,
     "start_time": "2021-01-07T04:36:22.405112",
     "status": "completed"
    },
    "tags": []
   },
   "outputs": [],
   "source": [
    "!pip install /kaggle/input/cassavav01/pytorch-image-models > /dev/null"
   ]
  },
  {
   "cell_type": "code",
   "execution_count": 3,
   "metadata": {
    "execution": {
     "iopub.execute_input": "2021-01-07T04:36:58.201953Z",
     "iopub.status.busy": "2021-01-07T04:36:58.197817Z",
     "iopub.status.idle": "2021-01-07T04:36:58.867523Z",
     "shell.execute_reply": "2021-01-07T04:36:58.866983Z"
    },
    "papermill": {
     "duration": 0.689728,
     "end_time": "2021-01-07T04:36:58.867662",
     "exception": false,
     "start_time": "2021-01-07T04:36:58.177934",
     "status": "completed"
    },
    "tags": []
   },
   "outputs": [],
   "source": [
    "!cp -r /kaggle/input/cassavav01/utils . "
   ]
  },
  {
   "cell_type": "code",
   "execution_count": 4,
   "metadata": {
    "_cell_guid": "79c7e3d0-c299-4dcb-8224-4455121ee9b0",
    "_uuid": "d629ff2d2480ee46fbb7e2d37f6b5fab8052498a",
    "execution": {
     "iopub.execute_input": "2021-01-07T04:36:58.912072Z",
     "iopub.status.busy": "2021-01-07T04:36:58.911149Z",
     "iopub.status.idle": "2021-01-07T04:37:02.989684Z",
     "shell.execute_reply": "2021-01-07T04:37:02.989118Z"
    },
    "papermill": {
     "duration": 4.105985,
     "end_time": "2021-01-07T04:37:02.989801",
     "exception": false,
     "start_time": "2021-01-07T04:36:58.883816",
     "status": "completed"
    },
    "tags": []
   },
   "outputs": [],
   "source": [
    "from collections import defaultdict\n",
    "import copy\n",
    "import random\n",
    "import numpy as np\n",
    "import os\n",
    "import shutil\n",
    "from urllib.request import urlretrieve\n",
    "import pandas as pd\n",
    "import albumentations as A\n",
    "from albumentations.pytorch import ToTensorV2\n",
    "import cv2\n",
    "import matplotlib.pyplot as plt\n",
    "from tqdm import tqdm\n",
    "import torch\n",
    "import torch.backends.cudnn as cudnn\n",
    "import torch.nn as nn\n",
    "import torch.optim\n",
    "from torch.utils.data import Dataset, DataLoader\n",
    "import torchvision.transforms as T\n",
    "import torchvision.models as models\n",
    "from sklearn.model_selection import StratifiedKFold\n",
    "from sklearn.metrics import accuracy_score\n",
    "cudnn.benchmark = True\n",
    "from torch.optim.lr_scheduler import CosineAnnealingWarmRestarts, CosineAnnealingLR, ReduceLROnPlateau\n",
    "import timm\n",
    "from timm.loss import LabelSmoothingCrossEntropy, SoftTargetCrossEntropy, JsdCrossEntropy\n",
    "from utils import Mixup, RandAugment\n",
    "from PIL import Image\n",
    "SEED = 42"
   ]
  },
  {
   "cell_type": "code",
   "execution_count": 5,
   "metadata": {
    "execution": {
     "iopub.execute_input": "2021-01-07T04:37:03.027045Z",
     "iopub.status.busy": "2021-01-07T04:37:03.026281Z",
     "iopub.status.idle": "2021-01-07T04:37:03.032397Z",
     "shell.execute_reply": "2021-01-07T04:37:03.031812Z"
    },
    "papermill": {
     "duration": 0.027526,
     "end_time": "2021-01-07T04:37:03.032538",
     "exception": false,
     "start_time": "2021-01-07T04:37:03.005012",
     "status": "completed"
    },
    "tags": []
   },
   "outputs": [],
   "source": [
    "def seed_everything(SEED):\n",
    "    random.seed(SEED)\n",
    "    os.environ['PYTHONHASHSEED'] = str(SEED)\n",
    "    np.random.seed(SEED)\n",
    "    torch.manual_seed(SEED)\n",
    "    torch.cuda.manual_seed(SEED)\n",
    "    torch.backends.cudnn.deterministic = True\n",
    "    torch.backends.cudnn.benchmark = True\n",
    "seed_everything(SEED)"
   ]
  },
  {
   "cell_type": "code",
   "execution_count": 6,
   "metadata": {
    "execution": {
     "iopub.execute_input": "2021-01-07T04:37:03.067430Z",
     "iopub.status.busy": "2021-01-07T04:37:03.066866Z",
     "iopub.status.idle": "2021-01-07T04:37:03.074679Z",
     "shell.execute_reply": "2021-01-07T04:37:03.075138Z"
    },
    "papermill": {
     "duration": 0.027353,
     "end_time": "2021-01-07T04:37:03.075257",
     "exception": false,
     "start_time": "2021-01-07T04:37:03.047904",
     "status": "completed"
    },
    "tags": []
   },
   "outputs": [
    {
     "data": {
      "text/plain": [
       "['train_tfrecords',\n",
       " 'sample_submission.csv',\n",
       " 'test_tfrecords',\n",
       " 'label_num_to_disease_map.json',\n",
       " 'train_images',\n",
       " 'train.csv',\n",
       " 'test_images']"
      ]
     },
     "execution_count": 6,
     "metadata": {},
     "output_type": "execute_result"
    }
   ],
   "source": [
    "root = os.path.join(os.environ[\"HOME\"], \"/kaggle/input/cassava-leaf-disease-classification\")\n",
    "os.listdir(root)"
   ]
  },
  {
   "cell_type": "code",
   "execution_count": 7,
   "metadata": {
    "execution": {
     "iopub.execute_input": "2021-01-07T04:37:03.115550Z",
     "iopub.status.busy": "2021-01-07T04:37:03.114941Z",
     "iopub.status.idle": "2021-01-07T04:37:03.548862Z",
     "shell.execute_reply": "2021-01-07T04:37:03.547880Z"
    },
    "papermill": {
     "duration": 0.458356,
     "end_time": "2021-01-07T04:37:03.548976",
     "exception": false,
     "start_time": "2021-01-07T04:37:03.090620",
     "status": "completed"
    },
    "tags": []
   },
   "outputs": [
    {
     "data": {
      "text/html": [
       "<div>\n",
       "<style scoped>\n",
       "    .dataframe tbody tr th:only-of-type {\n",
       "        vertical-align: middle;\n",
       "    }\n",
       "\n",
       "    .dataframe tbody tr th {\n",
       "        vertical-align: top;\n",
       "    }\n",
       "\n",
       "    .dataframe thead th {\n",
       "        text-align: right;\n",
       "    }\n",
       "</style>\n",
       "<table border=\"1\" class=\"dataframe\">\n",
       "  <thead>\n",
       "    <tr style=\"text-align: right;\">\n",
       "      <th></th>\n",
       "      <th>image_id</th>\n",
       "      <th>label</th>\n",
       "    </tr>\n",
       "  </thead>\n",
       "  <tbody>\n",
       "    <tr>\n",
       "      <th>0</th>\n",
       "      <td>1000015157.jpg</td>\n",
       "      <td>0</td>\n",
       "    </tr>\n",
       "    <tr>\n",
       "      <th>1</th>\n",
       "      <td>1000201771.jpg</td>\n",
       "      <td>3</td>\n",
       "    </tr>\n",
       "    <tr>\n",
       "      <th>2</th>\n",
       "      <td>100042118.jpg</td>\n",
       "      <td>1</td>\n",
       "    </tr>\n",
       "    <tr>\n",
       "      <th>3</th>\n",
       "      <td>1000723321.jpg</td>\n",
       "      <td>1</td>\n",
       "    </tr>\n",
       "    <tr>\n",
       "      <th>4</th>\n",
       "      <td>1000812911.jpg</td>\n",
       "      <td>3</td>\n",
       "    </tr>\n",
       "  </tbody>\n",
       "</table>\n",
       "</div>"
      ],
      "text/plain": [
       "         image_id  label\n",
       "0  1000015157.jpg      0\n",
       "1  1000201771.jpg      3\n",
       "2   100042118.jpg      1\n",
       "3  1000723321.jpg      1\n",
       "4  1000812911.jpg      3"
      ]
     },
     "metadata": {},
     "output_type": "display_data"
    },
    {
     "data": {
      "text/html": [
       "<div>\n",
       "<style scoped>\n",
       "    .dataframe tbody tr th:only-of-type {\n",
       "        vertical-align: middle;\n",
       "    }\n",
       "\n",
       "    .dataframe tbody tr th {\n",
       "        vertical-align: top;\n",
       "    }\n",
       "\n",
       "    .dataframe thead th {\n",
       "        text-align: right;\n",
       "    }\n",
       "</style>\n",
       "<table border=\"1\" class=\"dataframe\">\n",
       "  <thead>\n",
       "    <tr style=\"text-align: right;\">\n",
       "      <th></th>\n",
       "      <th>image_id</th>\n",
       "      <th>label</th>\n",
       "    </tr>\n",
       "  </thead>\n",
       "  <tbody>\n",
       "    <tr>\n",
       "      <th>0</th>\n",
       "      <td>2216849948.jpg</td>\n",
       "      <td>4</td>\n",
       "    </tr>\n",
       "  </tbody>\n",
       "</table>\n",
       "</div>"
      ],
      "text/plain": [
       "         image_id  label\n",
       "0  2216849948.jpg      4"
      ]
     },
     "metadata": {},
     "output_type": "display_data"
    },
    {
     "data": {
      "text/html": [
       "<div>\n",
       "<style scoped>\n",
       "    .dataframe tbody tr th:only-of-type {\n",
       "        vertical-align: middle;\n",
       "    }\n",
       "\n",
       "    .dataframe tbody tr th {\n",
       "        vertical-align: top;\n",
       "    }\n",
       "\n",
       "    .dataframe thead th {\n",
       "        text-align: right;\n",
       "    }\n",
       "</style>\n",
       "<table border=\"1\" class=\"dataframe\">\n",
       "  <thead>\n",
       "    <tr style=\"text-align: right;\">\n",
       "      <th></th>\n",
       "      <th>0</th>\n",
       "    </tr>\n",
       "  </thead>\n",
       "  <tbody>\n",
       "    <tr>\n",
       "      <th>0</th>\n",
       "      <td>Cassava Bacterial Blight (CBB)</td>\n",
       "    </tr>\n",
       "    <tr>\n",
       "      <th>1</th>\n",
       "      <td>Cassava Brown Streak Disease (CBSD)</td>\n",
       "    </tr>\n",
       "    <tr>\n",
       "      <th>2</th>\n",
       "      <td>Cassava Green Mottle (CGM)</td>\n",
       "    </tr>\n",
       "    <tr>\n",
       "      <th>3</th>\n",
       "      <td>Cassava Mosaic Disease (CMD)</td>\n",
       "    </tr>\n",
       "    <tr>\n",
       "      <th>4</th>\n",
       "      <td>Healthy</td>\n",
       "    </tr>\n",
       "  </tbody>\n",
       "</table>\n",
       "</div>"
      ],
      "text/plain": [
       "                                     0\n",
       "0       Cassava Bacterial Blight (CBB)\n",
       "1  Cassava Brown Streak Disease (CBSD)\n",
       "2           Cassava Green Mottle (CGM)\n",
       "3         Cassava Mosaic Disease (CMD)\n",
       "4                              Healthy"
      ]
     },
     "metadata": {},
     "output_type": "display_data"
    }
   ],
   "source": [
    "train = pd.read_csv(f'{root}/train.csv')\n",
    "test = pd.read_csv(f'{root}/sample_submission.csv')\n",
    "label_map = pd.read_json(f'{root}/label_num_to_disease_map.json', \n",
    "                         orient='index')\n",
    "display(train.head())\n",
    "display(test.head())\n",
    "display(label_map)"
   ]
  },
  {
   "cell_type": "code",
   "execution_count": 8,
   "metadata": {
    "execution": {
     "iopub.execute_input": "2021-01-07T04:37:03.599979Z",
     "iopub.status.busy": "2021-01-07T04:37:03.599130Z",
     "iopub.status.idle": "2021-01-07T04:37:03.602211Z",
     "shell.execute_reply": "2021-01-07T04:37:03.602705Z"
    },
    "papermill": {
     "duration": 0.036044,
     "end_time": "2021-01-07T04:37:03.602837",
     "exception": false,
     "start_time": "2021-01-07T04:37:03.566793",
     "status": "completed"
    },
    "tags": []
   },
   "outputs": [],
   "source": [
    "models_name = [\"resnest26d\", \"resnest50d\" ,\"tf_efficientnet_b3_ns\", \"tf_efficientnet_b4_ns\", \"legacy_seresnext26_32x4d\",\"vit_base_patch16_384\"]\n",
    "\n",
    "\n",
    "WEIGHTS = [\n",
    "#     \"../input/cassavav02/resnest26d_fold0_best_epoch_4_final_512.pth\",\n",
    "#     \"../input/cassavav01/weights/resnest26d_fold1_best_epoch_7_finale_ex_hnm.pth\",\n",
    "#     \"../input/cassavav02/resnest26d_fold2_best_epoch_4_final_512.pth\",\n",
    "#     \"../input/cassavav02/resnest26d_fold4_best_epoch_21_final_512.pth\",\n",
    "    #\n",
    "#     \"../input/cassavav05/resnest26d_fold0_best_epoch_19_final_3rd.pth\",\n",
    "#     \"../input/cassavav05/resnest26d_fold1_best_epoch_7_final_2nd.pth\",\n",
    "#     \"../input/cassavav05/resnest26d_fold2_best_epoch_4_final_2nd.pth\",\n",
    "#     \"../input/cassavav05/resnest26d_fold3_best_epoch_10_final_3rd.pth\",\n",
    "#     \"../input/cassavav05/resnest26d_fold4_best_epoch_6_final_3rd.pth\",\n",
    "    \n",
    "#     \"../input/cassavav03/tf_efficientnet_b3_ns_fold1_best_epoch_1_final_512.pth\",\n",
    "    #\n",
    "#     \"../input/cassavav06/resnest50d_fold0_best_epoch_13_final_2nd.pth\",\n",
    "#     \"../input/cassavav07/resnest50d_fold0_best_epoch_10_final_3rd.pth\",\n",
    "#     \"../input/cassavav08/resnest50d_fold0_best_epoch_16_final_4th.pth\",\n",
    "#     \"../input/cassavav06/resnest50d_fold1_best_epoch_17_final_2nd.pth\",\n",
    "#     \"../input/cassavav09/resnest50d_fold1_best_epoch_8_final_5th_pseudo.pth\",\n",
    "#     \"../input/cassavav06/resnest50d_fold2_best_epoch_22_final_2nd.pth\",\n",
    "#     \"../input/cassavav06/resnest50d_fold3_best_epoch_2_final_2nd.pth\",\n",
    "#     \"../input/cassavav07/resnest50d_fold3_best_epoch_1_final_3rd.pth\",\n",
    "#     \"../input/cassavav08/resnest50d_fold3_best_epoch_2_final_4th.pth\",\n",
    "#     \"../input/cassavav06/resnest50d_fold4_best_epoch_10_final_2nd.pth\",\n",
    "#     \"../input/cassavav06/resnest50d_fold4_best_epoch_15_final_3rd.pth\",\n",
    "#     \"../input/cassavav08/resnest50d_fold4_best_epoch_10_final-4th.pth\",\n",
    "#     \"../input/cassavav09/resnest50d_fold4_best_epoch_1_final_5th_pseudo.pth\",\n",
    "    \n",
    "#     \"../input/cassavav11/tf_efficientnet_b4_ns_fold0_best_epoch_3_final_3rd.pth\",\n",
    "#     \"../input/cassavav11/tf_efficientnet_b4_ns_fold1_best_epoch_16_final_3rd.pth\",\n",
    "#     \"../input/cassavav11/tf_efficientnet_b4_ns_fold2_best_epoch_5_final_3rd.pth\",\n",
    "    \"../input/cassavav11/tf_efficientnet_b4_ns_fold4_best_epoch_20_final_3rd.pth\",\n",
    "    \n",
    "#     \"/kaggle/input/cassavav12/tf_efficientnet_b4_ns_fold0_best_epoch_25_final_3rd.pth\",\n",
    "    \"/kaggle/input/cassavav12/tf_efficientnet_b4_ns_fold0_best_epoch_14_final_2nd_loss.pth\",\n",
    "#     \"/kaggle/input/cassavav12/tf_efficientnet_b4_ns_fold0_best_epoch_24_final_2nd.pth\",\n",
    "#     \"/kaggle/input/cassavav12/tf_efficientnet_b4_ns_fold2_best_epoch_7_final_3rd.pth\",\n",
    "    \"../input/effb43rdfold2/tf_efficientnet_b4_ns_fold2_best_epoch_29_final_3rd.pth\",\n",
    "# #     \"/kaggle/input/cassavav12/tf_efficientnet_b4_ns_fold2_best_epoch_20_final_2nd.pth\",\n",
    "#     \"/kaggle/input/cassavav12/tf_efficientnet_b4_ns_fold1_best_epoch_30_final_3rd.pth\",\n",
    "# #     \"/kaggle/input/cassavav12/tf_efficientnet_b4_ns_fold1_best_epoch_20_final_2nd.pth\",\n",
    "#     \"/kaggle/input/cassavav12/tf_efficientnet_b4_ns_fold3_best_epoch_16_final_3rd.pth\",\n",
    "# #     \"/kaggle/input/cassavav12/tf_efficientnet_b4_ns_fold3_best_epoch_27_final_2nd.pth\",\n",
    "#     \"/kaggle/input/cassavav12/tf_efficientnet_b4_ns_fold4_best_epoch_20_final_3rd.pth\",\n",
    "#     \"/kaggle/input/cassavav12/tf_efficientnet_b4_ns_fold4_best_epoch_23_final_2nd.pth\",\n",
    "    \n",
    "    \"../input/effb45thfold1/tf_efficientnet_b4_ns_fold1_best_epoch_26_final_5th.pth\",\n",
    "    \n",
    "#     \"/kaggle/input/cassavav13/tf_efficientnet_b4_ns_fold0_best_epoch_14_final_2nd.pth\",\n",
    "#     \"/kaggle/input/cassavav13/tf_efficientnet_b4_ns_fold1_best_epoch_7_final_2nd.pth\",\n",
    "#     \"/kaggle/input/cassavav13/tf_efficientnet_b4_ns_fold1_best_epoch_10_final_2nd_acc.pth\",\n",
    "#     \"/kaggle/input/cassavav13/tf_efficientnet_b4_ns_fold2_best_epoch_11_final_2nd_acc.pth\",\n",
    "#     \"/kaggle/input/cassavav13/tf_efficientnet_b4_ns_fold2_best_epoch_1_final_2nd.pth\",\n",
    "    \"/kaggle/input/cassavav13/tf_efficientnet_b4_ns_fold3_best_epoch_14_final_2nd.pth\",\n",
    "#     \"/kaggle/input/cassavav13/tf_efficientnet_b4_ns_fold4_best_epoch_13_final_2nd_acc.pth\",\n",
    "#     \"/kaggle/input/cassavav13/tf_efficientnet_b4_ns_fold4_best_epoch_5_final_2nd.pth\",\n",
    " \n",
    "# \"/kaggle/input/cassavav14/legacy_seresnext26_32x4d_fold0_best_epoch_22_final_2nd.pth\",\n",
    "# \"/kaggle/input/cassavav14/legacy_seresnext26_32x4d_fold1_best_epoch_1_final_fmix_3rd.pth\",\n",
    "# \"/kaggle/input/cassavav14/legacy_seresnext26_32x4d_fold1_best_epoch_32_final_2nd.pth \"\n",
    "# \"/kaggle/input/cassavav14/legacy_seresnext26_32x4d_fold1_best_epoch_30_final_3rd.pth\",\n",
    "# \"/kaggle/input/cassavav14/legacy_seresnext26_32x4d_fold2_best_epoch_28_final_2nd.pth\",\n",
    "# \"/kaggle/input/cassavav14/legacy_seresnext26_32x4d_fold3_best_epoch_28_final_2nd.pth\",\n",
    "# \"/kaggle/input/cassavav14/legacy_seresnext26_32x4d_fold4_best_epoch_22_final_2nd.pth\",\n",
    "# \"/kaggle/input/cassavav14/legacy_seresnext26_32x4d_fold4_best_epoch_16_final_3rd.pth\",\n",
    "\n",
    "#     \"/kaggle/input/cassavav15/legacy_seresnext26_32x4d_fold0_best_epoch_29_final_4th.pth\",\n",
    "#     \"/kaggle/input/cassavav15/legacy_seresnext26_32x4d_fold1_best_epoch_17_final_4th.pth\",\n",
    "#     \"/kaggle/input/cassavav15/legacy_seresnext26_32x4d_fold2_best_epoch_28_final_4th.pth\",\n",
    "#     \"/kaggle/input/cassavav15/legacy_seresnext26_32x4d_fold3_best_epoch_14_final_4th.pth\",\n",
    "#     \"/kaggle/input/cassavav15/legacy_seresnext26_32x4d_fold4_best_epoch_27_final_4th.pth\",\n",
    "#     \"/kaggle/input/cassavav16/legacy_seresnext26_32x4d_fold0_best_epoch_29_final_4th.pth\",\n",
    "#     \"/kaggle/input/cassavav16/legacy_seresnext26_32x4d_fold2_best_epoch_26_final_5th.pth\",\n",
    "#     \"/kaggle/input/cassavav16/legacy_seresnext26_32x4d_fold1_best_epoch_21_final_5th.pth\",\n",
    "#     \"/kaggle/input/cassavav16/legacy_seresnext26_32x4d_fold3_best_epoch_4_final_5th.pth\",\n",
    "#     \"/kaggle/input/cassavav16/legacy_seresnext26_32x4d_fold4_best_epoch_17_final_5th.pth\",\n",
    "\n",
    "    \n",
    "]\n",
    "model_index = 3\n",
    "ckpt_index = 0\n",
    "\n",
    "ensemble_models_name = list(8*[\"tf_efficientnet_b4_ns\"])\n",
    "ensemble_ckpt_index = [0, 1, 2, 3, 4, 5, 6, 7, 8, 9]\n",
    "\n",
    "params = {\n",
    "    \"visualize\": False,\n",
    "    \"debug\":False,\n",
    "    \"fold\": [0,1,2,3,4],\n",
    "    \"load_pretrained\": True,\n",
    "    \"image_size\": 512,\n",
    "    \"num_classes\": 5,\n",
    "    \"model\": models_name[model_index],\n",
    "    \"device\": \"cuda\",\n",
    "    \"batch_size\": 32,\n",
    "    \"num_workers\": 2,\n",
    "    \"drop_block\": 0.2,\n",
    "    \"drop_rate\": 0.2,\n",
    "    \"tta\": True,\n",
    "    \"kfold_pred\":True,\n",
    "    \"error_fix\":False,\n",
    "    \"ensemble\":False\n",
    "}"
   ]
  },
  {
   "cell_type": "code",
   "execution_count": 9,
   "metadata": {
    "execution": {
     "iopub.execute_input": "2021-01-07T04:37:03.654403Z",
     "iopub.status.busy": "2021-01-07T04:37:03.652627Z",
     "iopub.status.idle": "2021-01-07T04:37:03.655151Z",
     "shell.execute_reply": "2021-01-07T04:37:03.655725Z"
    },
    "papermill": {
     "duration": 0.035832,
     "end_time": "2021-01-07T04:37:03.655854",
     "exception": false,
     "start_time": "2021-01-07T04:37:03.620022",
     "status": "completed"
    },
    "tags": []
   },
   "outputs": [],
   "source": [
    "class TestDataset(Dataset):\n",
    "    def __init__(self, df, transform=None, valid_test=False):\n",
    "        self.df = df\n",
    "        self.file_names = df['image_id'].values\n",
    "        self.transform = transform\n",
    "        self.valid_test = valid_test\n",
    "        if self.valid_test:\n",
    "            self.labels = df['label'].values  \n",
    "        else:\n",
    "            assert ValueError(\"Test data does not have annotation, plz check!\")\n",
    "        \n",
    "    def __len__(self):\n",
    "        return len(self.df)\n",
    "\n",
    "    def __getitem__(self, idx):\n",
    "        file_name = self.file_names[idx]\n",
    "        file_path = f'{root}/test_images/{file_name}'\n",
    "        image = cv2.imread(file_path)\n",
    "        image = cv2.cvtColor(image, cv2.COLOR_BGR2RGB)\n",
    "        if isinstance(self.transform, list):\n",
    "            outputs = {'images':[],\n",
    "                       'labels':[]}\n",
    "             #image0 = transforms.ToPILImage()(image)\n",
    "             #image0 = self.transform[0](image0)\n",
    "\n",
    "            for trans in self.transform:\n",
    "                augmented = trans(image=image)\n",
    "                image_aug = augmented['image']\n",
    "                outputs[\"images\"].append(image_aug)\n",
    "                del image_aug\n",
    "                \n",
    "            if self.valid_test:\n",
    "                label = torch.tensor(self.labels[idx]).long()\n",
    "                outputs['labels'] = len(self.transform)*[label]\n",
    "            else:\n",
    "                outputs['labels'] = len(self.transform)*[-1]\n",
    "                \n",
    "            return outputs\n",
    "        else:\n",
    "            augmented = self.transform(image=image)\n",
    "            image = augmented['image'] \n",
    "        return image"
   ]
  },
  {
   "cell_type": "code",
   "execution_count": 10,
   "metadata": {
    "execution": {
     "iopub.execute_input": "2021-01-07T04:37:03.698700Z",
     "iopub.status.busy": "2021-01-07T04:37:03.696882Z",
     "iopub.status.idle": "2021-01-07T04:37:03.699347Z",
     "shell.execute_reply": "2021-01-07T04:37:03.699830Z"
    },
    "papermill": {
     "duration": 0.026903,
     "end_time": "2021-01-07T04:37:03.699942",
     "exception": false,
     "start_time": "2021-01-07T04:37:03.673039",
     "status": "completed"
    },
    "tags": []
   },
   "outputs": [],
   "source": [
    "class UnNormalize(object):\n",
    "    def __init__(self, mean, std):\n",
    "        self.mean = mean\n",
    "        self.std = std\n",
    "\n",
    "    def __call__(self, tensor):\n",
    "        \"\"\"\n",
    "        Args:\n",
    "            tensor (Tensor): Tensor image of size (C, H, W) to be normalized.\n",
    "        Returns:\n",
    "            Tensor: Normalized image.\n",
    "        \"\"\"\n",
    "        for t, m, s in zip(tensor, self.mean, self.std):\n",
    "            t.mul_(s).add_(m)\n",
    "            # The normalize code -> t.sub_(m).div_(s)\n",
    "        return tensor"
   ]
  },
  {
   "cell_type": "code",
   "execution_count": 11,
   "metadata": {
    "execution": {
     "iopub.execute_input": "2021-01-07T04:37:03.746502Z",
     "iopub.status.busy": "2021-01-07T04:37:03.745816Z",
     "iopub.status.idle": "2021-01-07T04:37:03.749197Z",
     "shell.execute_reply": "2021-01-07T04:37:03.748708Z"
    },
    "papermill": {
     "duration": 0.032,
     "end_time": "2021-01-07T04:37:03.749290",
     "exception": false,
     "start_time": "2021-01-07T04:37:03.717290",
     "status": "completed"
    },
    "tags": []
   },
   "outputs": [],
   "source": [
    "def declare_model(name, index=None):\n",
    "    if \"efficientnet\" in name:\n",
    "        model = timm.create_model(\n",
    "                params[\"model\"],\n",
    "                pretrained=False,\n",
    "                num_classes=params[\"num_classes\"], \n",
    "                drop_rate=params[\"drop_rate\"], \n",
    "                drop_path_rate=0.2)\n",
    "    elif \"seresnext\" in name:\n",
    "        model = timm.create_model(name,\n",
    "                pretrained=False,\n",
    "                num_classes=params[\"num_classes\"])\n",
    "    else:\n",
    "        model = timm.create_model(name,\n",
    "                pretrained=False,\n",
    "                num_classes=params[\"num_classes\"],\n",
    "                drop_rate=params[\"drop_rate\"])\n",
    "        \n",
    "    model = model.to(params[\"device\"])\n",
    "    model = torch.nn.DataParallel(model) \n",
    "        \n",
    "    if params[\"load_pretrained\"]:\n",
    "        if index == None: \n",
    "            return model\n",
    "        state_dict = torch.load(WEIGHTS[index])\n",
    "        print(f\"Load pretrained model: {name} \",state_dict[\"preds\"])\n",
    "        model.load_state_dict(state_dict[\"model\"])\n",
    "        best_acc = state_dict[\"preds\"]   \n",
    "    return model\n",
    "if not params[\"kfold_pred\"] and not params[\"ensemble\"]:\n",
    "    model = declare_model(params[\"model\"], ckpt_index)"
   ]
  },
  {
   "cell_type": "code",
   "execution_count": 12,
   "metadata": {
    "execution": {
     "iopub.execute_input": "2021-01-07T04:37:03.809038Z",
     "iopub.status.busy": "2021-01-07T04:37:03.807278Z",
     "iopub.status.idle": "2021-01-07T04:37:03.809885Z",
     "shell.execute_reply": "2021-01-07T04:37:03.810355Z"
    },
    "papermill": {
     "duration": 0.043715,
     "end_time": "2021-01-07T04:37:03.810488",
     "exception": false,
     "start_time": "2021-01-07T04:37:03.766773",
     "status": "completed"
    },
    "tags": []
   },
   "outputs": [],
   "source": [
    "transform_tta0 = A.Compose(\n",
    "    [\n",
    "     A.CenterCrop(height=params[\"image_size\"], width=params[\"image_size\"], p=1),\n",
    "     A.Resize(height=params[\"image_size\"], width=params[\"image_size\"], p=1),\n",
    "     A.Normalize(mean=(0.485, 0.456, 0.406), std=(0.229, 0.224, 0.225)),   \n",
    "     ToTensorV2()\n",
    "    ]\n",
    ")\n",
    "\n",
    "transform_tta1 = A.Compose(\n",
    "    [\n",
    "     A.CenterCrop(height=params[\"image_size\"], width=params[\"image_size\"], p=1),\n",
    "     A.Resize(height=params[\"image_size\"], width=params[\"image_size\"], p=1),\n",
    "     A.HorizontalFlip(p=1.),\n",
    "     A.Normalize(mean=(0.485, 0.456, 0.406), std=(0.229, 0.224, 0.225)),   \n",
    "     ToTensorV2()\n",
    "    ]\n",
    ")\n",
    "transform_tta2 = A.Compose(\n",
    "    [\n",
    "     A.CenterCrop(height=params[\"image_size\"], width=params[\"image_size\"], p=1),        \n",
    "     A.Resize(height=params[\"image_size\"], width=params[\"image_size\"], p=1),\n",
    "     A.VerticalFlip(p=1.),\n",
    "     A.Normalize(mean=(0.485, 0.456, 0.406), std=(0.229, 0.224, 0.225)),\n",
    "     ToTensorV2(),\n",
    "    ]\n",
    ")\n",
    "transform_tta3 = A.Compose(\n",
    "    [\n",
    "     A.CenterCrop(height=params[\"image_size\"], width=params[\"image_size\"], p=1),\n",
    "     A.Resize(height=params[\"image_size\"], width=params[\"image_size\"], p=1),\n",
    "     A.RandomRotate90(p=1.),\n",
    "     A.Normalize(mean=(0.485, 0.456, 0.406), std=(0.229, 0.224, 0.225)),     \n",
    "     ToTensorV2(),\n",
    "    ]\n",
    ")\n",
    "##### Test TTA with Five Crops\n",
    "transform_crop_tta0 = T.Compose([\n",
    "                T.FiveCrop(params[\"image_size\"]),\n",
    "                T.Lambda(lambda crops: ([T.ToTensor()(crop) for crop in crops])),\n",
    "                T.Lambda(lambda norms: torch.stack([T.Normalize(mean=[0.5], std=[0.5])(norm) for norm in norms]))\n",
    "        ]\n",
    ")\n",
    "test_transform_tta = [transform_tta0, transform_tta1, transform_tta2, transform_tta3]\n",
    "\n",
    "#debug\n",
    "if params['debug']:\n",
    "    print(\"In debug mode\")\n",
    "    test = pd.concat([test,test, test])\n",
    "\n",
    "if params[\"tta\"]:\n",
    "    test_pred_dataset = TestDataset(test, transform=test_transform_tta)\n",
    "else:\n",
    "    test_pred_dataset = TestDataset(test, transform=test_transform_tta[0])\n",
    "    \n",
    "test_pred_loader = DataLoader(\n",
    "    test_pred_dataset, batch_size=params[\"batch_size\"], shuffle=False, num_workers=params['num_workers'], pin_memory=True,\n",
    ")"
   ]
  },
  {
   "cell_type": "code",
   "execution_count": 13,
   "metadata": {
    "execution": {
     "iopub.execute_input": "2021-01-07T04:37:03.852279Z",
     "iopub.status.busy": "2021-01-07T04:37:03.851686Z",
     "iopub.status.idle": "2021-01-07T04:37:03.858097Z",
     "shell.execute_reply": "2021-01-07T04:37:03.857614Z"
    },
    "papermill": {
     "duration": 0.030018,
     "end_time": "2021-01-07T04:37:03.858189",
     "exception": false,
     "start_time": "2021-01-07T04:37:03.828171",
     "status": "completed"
    },
    "tags": []
   },
   "outputs": [
    {
     "data": {
      "text/plain": [
       "<bound method NDFrame.head of          image_id  label\n",
       "0  2216849948.jpg      4>"
      ]
     },
     "execution_count": 13,
     "metadata": {},
     "output_type": "execute_result"
    }
   ],
   "source": [
    "test.head"
   ]
  },
  {
   "cell_type": "code",
   "execution_count": 14,
   "metadata": {
    "execution": {
     "iopub.execute_input": "2021-01-07T04:37:03.907993Z",
     "iopub.status.busy": "2021-01-07T04:37:03.906779Z",
     "iopub.status.idle": "2021-01-07T04:37:03.909069Z",
     "shell.execute_reply": "2021-01-07T04:37:03.909613Z"
    },
    "papermill": {
     "duration": 0.032996,
     "end_time": "2021-01-07T04:37:03.909729",
     "exception": false,
     "start_time": "2021-01-07T04:37:03.876733",
     "status": "completed"
    },
    "tags": []
   },
   "outputs": [],
   "source": [
    "def visualize_tta(data, pred):     \n",
    "    unorm = UnNormalize(mean=(0.485, 0.456, 0.406), std=(0.229, 0.224, 0.225))\n",
    "    if params[\"tta\"]:\n",
    "        figure, ax = plt.subplots(nrows=1, ncols=num_tta, figsize=(12, 6))\n",
    "        for i, image in enumerate(data[\"images\"]):\n",
    "            image = (unorm(image[0]).cpu().numpy()*255).astype(int)\n",
    "            ax.ravel()[i].imshow(image.transpose(2,1,0))\n",
    "            ax.ravel()[i].set_title(str(pred), color='GREEN')\n",
    "            ax.ravel()[i].set_axis_off()\n",
    "        plt.tight_layout()\n",
    "        plt.show() \n",
    "    else:\n",
    "        image = (unorm(data).cpu().numpy()*255).astype(int)\n",
    "        imgplot = plt.imshow(image[0].transpose(2,1,0))\n",
    "        imgplot = plt.title(str(pred), color='GREEN')\n",
    "        plt.show()"
   ]
  },
  {
   "cell_type": "code",
   "execution_count": 15,
   "metadata": {
    "execution": {
     "iopub.execute_input": "2021-01-07T04:37:03.951897Z",
     "iopub.status.busy": "2021-01-07T04:37:03.951084Z",
     "iopub.status.idle": "2021-01-07T04:37:03.953592Z",
     "shell.execute_reply": "2021-01-07T04:37:03.954183Z"
    },
    "papermill": {
     "duration": 0.026302,
     "end_time": "2021-01-07T04:37:03.954303",
     "exception": false,
     "start_time": "2021-01-07T04:37:03.928001",
     "status": "completed"
    },
    "tags": []
   },
   "outputs": [],
   "source": [
    "def gmean(input_x, dim):\n",
    "    log_x = torch.log(input_x)\n",
    "    return torch.exp(torch.mean(log_x, dim=dim))"
   ]
  },
  {
   "cell_type": "code",
   "execution_count": 16,
   "metadata": {
    "execution": {
     "iopub.execute_input": "2021-01-07T04:37:04.010028Z",
     "iopub.status.busy": "2021-01-07T04:37:04.008215Z",
     "iopub.status.idle": "2021-01-07T04:37:04.010700Z",
     "shell.execute_reply": "2021-01-07T04:37:04.011155Z"
    },
    "papermill": {
     "duration": 0.037862,
     "end_time": "2021-01-07T04:37:04.011267",
     "exception": false,
     "start_time": "2021-01-07T04:37:03.973405",
     "status": "completed"
    },
    "tags": []
   },
   "outputs": [],
   "source": [
    "num_tta = len(test_transform_tta)\n",
    "def tta_predict(loader, params, valid_test=False):\n",
    "    outputs = []\n",
    "    preds = []\n",
    "    models = []\n",
    "    for i, ckpt_idx in enumerate(params[\"fold\"]):\n",
    "        model = declare_model(params[\"model\"], i)\n",
    "        model.eval()\n",
    "        models.append(model)\n",
    "    #    \n",
    "    stream = tqdm(loader)    \n",
    "    with torch.no_grad():\n",
    "        for i, data in enumerate(stream, start=1):\n",
    "            if params[\"visualize\"]:\n",
    "                visualize_tta(data, pred)\n",
    "            tta_output = []   \n",
    "            for i, image in enumerate(data[\"images\"]):\n",
    "                kfout = [torch.softmax(model(image), dim=1) for model in models]\n",
    "                tta_output.extend(torch.stack(kfout, dim=0))\n",
    "            tta_output = torch.stack(tta_output, dim=0).mean(dim=0)\n",
    "            \n",
    "            pred = torch.argmax(tta_output, dim=1).cpu().numpy()    \n",
    "            if params[\"error_fix\"]:\n",
    "                topk_output, topk_ids = torch.topk(output, params[\"num_classes\"])\n",
    "                for i in range(len(pred)):\n",
    "                    ## adjust the output prediction\n",
    "                    max_1st = topk_ids[i][0]\n",
    "                    max_2nd = topk_ids[i][1]\n",
    "                    if  max_1st == 0 and max_2nd == 4 and output[i][max_2nd] > 0.2:\n",
    "                        pred[i] = max_2nd\n",
    "                    if max_1st == 3 and max_2nd == 2 and output[i][max_2nd] > 0.2:\n",
    "                        pred[i] = max_2nd\n",
    "\n",
    "            preds.extend(pred)\n",
    "            ## For visualize the TTA \n",
    "            if params[\"visualize\"]:\n",
    "                visualize_tta(data, pred)\n",
    "    return preds"
   ]
  },
  {
   "cell_type": "code",
   "execution_count": 17,
   "metadata": {
    "execution": {
     "iopub.execute_input": "2021-01-07T04:37:04.066501Z",
     "iopub.status.busy": "2021-01-07T04:37:04.065868Z",
     "iopub.status.idle": "2021-01-07T04:37:26.333378Z",
     "shell.execute_reply": "2021-01-07T04:37:26.334228Z"
    },
    "papermill": {
     "duration": 22.303998,
     "end_time": "2021-01-07T04:37:26.334427",
     "exception": false,
     "start_time": "2021-01-07T04:37:04.030429",
     "status": "completed"
    },
    "tags": []
   },
   "outputs": [
    {
     "name": "stdout",
     "output_type": "stream",
     "text": [
      "Load pretrained model: tf_efficientnet_b4_ns  0.8945\n",
      "Load pretrained model: tf_efficientnet_b4_ns  0.8879\n",
      "Load pretrained model: tf_efficientnet_b4_ns  0.8902\n",
      "Load pretrained model: tf_efficientnet_b4_ns  0.8972\n"
     ]
    },
    {
     "name": "stderr",
     "output_type": "stream",
     "text": [
      "  0%|          | 0/1 [00:00<?, ?it/s]"
     ]
    },
    {
     "name": "stdout",
     "output_type": "stream",
     "text": [
      "Load pretrained model: tf_efficientnet_b4_ns  0.8922\n"
     ]
    },
    {
     "name": "stderr",
     "output_type": "stream",
     "text": [
      "100%|██████████| 1/1 [00:02<00:00,  2.54s/it]\n"
     ]
    }
   ],
   "source": [
    "# Ensemble CV w/ fold predict on validation set\n",
    "def tta_pred_ensemble_model(loader, params, valid_test=False):\n",
    "    stream = tqdm(loader)\n",
    "    models = []\n",
    "    preds = []\n",
    "    print(f\"Ensemble below models: {ensemble_models_name}\")\n",
    "    for name, ckpt in zip(ensemble_models_name, ensemble_ckpt_index):\n",
    "        print(ckpt)\n",
    "        m = declare_model(name, ckpt)  \n",
    "        models.append(m.eval())\n",
    "        del m\n",
    "    \n",
    "    with torch.no_grad():\n",
    "        for i, data in enumerate(stream, start=1):\n",
    "            tta_output = []   \n",
    "            for i, image in enumerate(data[\"images\"]):\n",
    "                kfout = []\n",
    "                for model,name in zip(models, ensemble_models_name):\n",
    "                    if \"eb6\" in name or \"sr_101\" in name:                    \n",
    "                        with torch.cuda.amp.autocast(), torch.no_grad():\n",
    "                            image = image.cuda()\n",
    "                            kfout.append(torch.softmax(model(image), dim=1))\n",
    "                    else:\n",
    "                        kfout.append(torch.softmax(model(image), dim=1))\n",
    "                        \n",
    "                tta_output.extend(torch.stack(kfout, dim=0))\n",
    "            tta_output = torch.stack(tta_output, dim=0).mean(dim=0)\n",
    "            \n",
    "#             if params[\"stacking\"]:\n",
    "#                 tta_output = F.softmax(tta_output, 1).data.cpu().numpy()\n",
    "#                 preds.append(tta_output)\n",
    "\n",
    "            pred = torch.argmax(tta_output, dim=1).cpu().numpy() \n",
    "            preds.extend(pred)\n",
    "    \n",
    "    ## For visualize the TTA \n",
    "        if params[\"visualize\"]:\n",
    "            visualize_tta(data, pred)\n",
    "    return preds     \n",
    "if params[\"ensemble\"]:\n",
    "    final_out = tta_pred_ensemble_model(test_pred_loader, params)  \n",
    "else:\n",
    "    final_out = tta_predict(test_pred_loader, params)             "
   ]
  },
  {
   "cell_type": "code",
   "execution_count": 18,
   "metadata": {
    "execution": {
     "iopub.execute_input": "2021-01-07T04:37:26.387987Z",
     "iopub.status.busy": "2021-01-07T04:37:26.387276Z",
     "iopub.status.idle": "2021-01-07T04:37:26.399971Z",
     "shell.execute_reply": "2021-01-07T04:37:26.400521Z"
    },
    "papermill": {
     "duration": 0.042696,
     "end_time": "2021-01-07T04:37:26.400649",
     "exception": false,
     "start_time": "2021-01-07T04:37:26.357953",
     "status": "completed"
    },
    "tags": []
   },
   "outputs": [
    {
     "data": {
      "text/html": [
       "<div>\n",
       "<style scoped>\n",
       "    .dataframe tbody tr th:only-of-type {\n",
       "        vertical-align: middle;\n",
       "    }\n",
       "\n",
       "    .dataframe tbody tr th {\n",
       "        vertical-align: top;\n",
       "    }\n",
       "\n",
       "    .dataframe thead th {\n",
       "        text-align: right;\n",
       "    }\n",
       "</style>\n",
       "<table border=\"1\" class=\"dataframe\">\n",
       "  <thead>\n",
       "    <tr style=\"text-align: right;\">\n",
       "      <th></th>\n",
       "      <th>image_id</th>\n",
       "      <th>label</th>\n",
       "    </tr>\n",
       "  </thead>\n",
       "  <tbody>\n",
       "    <tr>\n",
       "      <th>0</th>\n",
       "      <td>2216849948.jpg</td>\n",
       "      <td>2</td>\n",
       "    </tr>\n",
       "  </tbody>\n",
       "</table>\n",
       "</div>"
      ],
      "text/plain": [
       "         image_id  label\n",
       "0  2216849948.jpg      2"
      ]
     },
     "execution_count": 18,
     "metadata": {},
     "output_type": "execute_result"
    }
   ],
   "source": [
    "test['label'] = final_out \n",
    "test.to_csv('submission.csv', index=False)\n",
    "test.head(n=10)"
   ]
  },
  {
   "cell_type": "code",
   "execution_count": null,
   "metadata": {
    "papermill": {
     "duration": 0.023107,
     "end_time": "2021-01-07T04:37:26.447081",
     "exception": false,
     "start_time": "2021-01-07T04:37:26.423974",
     "status": "completed"
    },
    "tags": []
   },
   "outputs": [],
   "source": []
  }
 ],
 "metadata": {
  "kernelspec": {
   "display_name": "Python 3",
   "language": "python",
   "name": "python3"
  },
  "language_info": {
   "codemirror_mode": {
    "name": "ipython",
    "version": 3
   },
   "file_extension": ".py",
   "mimetype": "text/x-python",
   "name": "python",
   "nbconvert_exporter": "python",
   "pygments_lexer": "ipython3",
   "version": "3.7.6"
  },
  "papermill": {
   "duration": 88.915528,
   "end_time": "2021-01-07T04:37:27.741585",
   "environment_variables": {},
   "exception": null,
   "input_path": "__notebook__.ipynb",
   "output_path": "__notebook__.ipynb",
   "parameters": {},
   "start_time": "2021-01-07T04:35:58.826057",
   "version": "2.1.0"
  }
 },
 "nbformat": 4,
 "nbformat_minor": 4
}
